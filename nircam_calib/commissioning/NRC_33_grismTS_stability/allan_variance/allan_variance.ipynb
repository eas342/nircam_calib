{
 "cells": [
  {
   "cell_type": "code",
   "execution_count": null,
   "metadata": {},
   "outputs": [],
   "source": [
    "import numpy as np\n",
    "from tshirt.pipeline import phot_pipeline\n",
    "from astropy.io import fits, ascii\n",
    "import matplotlib.pyplot as plt\n",
    "from scipy.stats import multivariate_normal as mvn"
   ]
  },
  {
   "cell_type": "markdown",
   "metadata": {},
   "source": [
    "Simulate random data. One that is IID (independent identically distributed) and one that is correlated"
   ]
  },
  {
   "cell_type": "code",
   "execution_count": null,
   "metadata": {},
   "outputs": [],
   "source": [
    "np.random.seed(1)\n",
    "\n",
    "sig_iid = 1e-3\n",
    "nwav = 1600\n",
    "nint = 1500\n",
    "sim2D_iid = np.random.randn(nint,nwav) * sig_iid + 1.0\n",
    "sim2D_err = np.ones_like(sim2D_iid) * sig_iid\n",
    "\n",
    "sim_t = np.arange(nint) / float(nint) * 3600. * 4.\n",
    "\n",
    "size_cov = nwav\n",
    "cor_tau = 100.\n",
    "i2D, j2D = np.mgrid[:size_cov,:size_cov]\n",
    "cov = np.exp(-(i2D - j2D)**2 / cor_tau**2) * sig_iid**2 * 0.1 + sig_iid**2 * np.eye(nwav)\n",
    "\n",
    "sim2D_cov_wav = np.random.multivariate_normal(mean=np.ones(size_cov),cov=cov,size=nint)\n",
    "\n",
    "size_cov = nint\n",
    "i2D, j2D = np.mgrid[:size_cov,:size_cov]\n",
    "cov = np.exp(-(i2D - j2D)**2 / cor_tau**2) * sig_iid**2 * 0.05 + sig_iid**2 * np.eye(nint)\n",
    "\n",
    "sim2D_cov_tim = np.random.multivariate_normal(mean=np.ones(size_cov),cov=cov,size=nwav).T"
   ]
  },
  {
   "cell_type": "code",
   "execution_count": null,
   "metadata": {},
   "outputs": [],
   "source": [
    "def show_dynamic(flux2D):\n",
    "    fig, ax = plt.subplots()\n",
    "    plt.imshow(flux2D,vmin=1.0-sig_iid * 0.2,vmax=1.0+sig_iid * 0.2)\n",
    "    ax.set_xlabel(\"Wavelength (px)\")\n",
    "    ax.set_ylabel(\"Time (ints)\")\n",
    "show_dynamic(sim2D_iid)"
   ]
  },
  {
   "cell_type": "code",
   "execution_count": null,
   "metadata": {},
   "outputs": [],
   "source": [
    "show_dynamic(sim2D_cov_wav)"
   ]
  },
  {
   "cell_type": "code",
   "execution_count": null,
   "metadata": {},
   "outputs": [],
   "source": [
    "show_dynamic(sim2D_cov_tim)"
   ]
  },
  {
   "cell_type": "markdown",
   "metadata": {},
   "source": [
    "## Wavelength binning"
   ]
  },
  {
   "cell_type": "code",
   "execution_count": null,
   "metadata": {},
   "outputs": [],
   "source": [
    "def do_wavebins(flux2D,err2D,binSize):\n",
    "    shape2D = flux2D.shape\n",
    "    nints, nwav = shape2D[0], shape2D[1]\n",
    "    \n",
    "    nbins = int(np.floor(nwav / binSize ))\n",
    "\n",
    "    flux_binned2D = np.zeros([nint,nbins])\n",
    "    err_binned2D = np.zeros_like(flux_binned2D)\n",
    "    for one_bin in np.arange(nbins):\n",
    "        ind_st = one_bin * binSize\n",
    "        ind_end = ind_st + binSize\n",
    "        flux_binned2D[:,one_bin] = np.nansum(flux2D[:,ind_st:ind_end],axis=1) / binSize\n",
    "        err_binned2D[:,one_bin] = np.sqrt(np.nansum(err2D[:,ind_st:ind_end]**2,axis=1)) / binSize\n",
    "    \n",
    "    resultDict = {}\n",
    "    resultDict['nbins'] = nbins\n",
    "    resultDict['flux_binned2D'] = flux_binned2D\n",
    "    resultDict['std_binned'] = np.nanstd(flux_binned2D,axis=0)\n",
    "    resultDict['theo_median'] = np.nanmedian(err_binned2D)#,axis=0)\n",
    "    return resultDict\n",
    "\n",
    "def wavebin(flux2D=sim2D_iid,err2D=sim2D_err):\n",
    "    nwav = flux2D.shape[1]\n",
    "    binpts_arr = 2**np.arange(11)\n",
    "\n",
    "    binsize_list = []\n",
    "    measured_list = []\n",
    "    theoretical_list = []\n",
    "    nbins_list = []\n",
    "\n",
    "    for one_binSize in binpts_arr:\n",
    "        resultDict = do_wavebins(flux2D,err2D,one_binSize)\n",
    "        nbins_list.append(resultDict['nbins'])\n",
    "        measured_list.append(resultDict['std_binned'])\n",
    "        theoretical_list.append(resultDict['theo_median'])\n",
    "\n",
    "    fig, ax = plt.subplots()\n",
    "    ax.loglog(binpts_arr,np.array(theoretical_list) * 1e3)\n",
    "    for ind,one_binSize in enumerate(binpts_arr):\n",
    "        ax.plot(np.ones(nbins_list[ind]) * one_binSize,\n",
    "                measured_list[ind] * 1e3,'o')\n",
    "\n",
    "    ax.set_xlabel(\"N Wavebins\")\n",
    "    ax.set_ylabel(\"Error (ppt)\")"
   ]
  },
  {
   "cell_type": "code",
   "execution_count": null,
   "metadata": {},
   "outputs": [],
   "source": [
    "wavebin(sim2D_iid)"
   ]
  },
  {
   "cell_type": "code",
   "execution_count": null,
   "metadata": {},
   "outputs": [],
   "source": [
    "wavebin(sim2D_cov_tim)"
   ]
  },
  {
   "cell_type": "code",
   "execution_count": null,
   "metadata": {},
   "outputs": [],
   "source": [
    "wavebin(sim2D_cov_wav)"
   ]
  },
  {
   "cell_type": "markdown",
   "metadata": {},
   "source": [
    "Time Binning"
   ]
  },
  {
   "cell_type": "code",
   "execution_count": null,
   "metadata": {},
   "outputs": [],
   "source": [
    "def timebin(flux2D):\n",
    "    resultDict = do_wavebins(flux2D,sim2D_err,16)\n",
    "    phot_pipeline.allan_variance(sim_t,resultDict['flux_binned2D'][:,0],\n",
    "                                 yerr=resultDict['theo_median'],showPlot=True)"
   ]
  },
  {
   "cell_type": "code",
   "execution_count": null,
   "metadata": {},
   "outputs": [],
   "source": [
    "timebin(sim2D_iid)"
   ]
  },
  {
   "cell_type": "code",
   "execution_count": null,
   "metadata": {},
   "outputs": [],
   "source": [
    "timebin(sim2D_cov_wav)"
   ]
  },
  {
   "cell_type": "code",
   "execution_count": null,
   "metadata": {},
   "outputs": [],
   "source": [
    "timebin(sim2D_cov_tim)"
   ]
  },
  {
   "cell_type": "code",
   "execution_count": null,
   "metadata": {},
   "outputs": [],
   "source": []
  },
  {
   "cell_type": "code",
   "execution_count": null,
   "metadata": {},
   "outputs": [],
   "source": []
  }
 ],
 "metadata": {
  "kernelspec": {
   "display_name": "Python 3",
   "language": "python",
   "name": "python3"
  },
  "language_info": {
   "codemirror_mode": {
    "name": "ipython",
    "version": 3
   },
   "file_extension": ".py",
   "mimetype": "text/x-python",
   "name": "python",
   "nbconvert_exporter": "python",
   "pygments_lexer": "ipython3",
   "version": "3.6.7"
  }
 },
 "nbformat": 4,
 "nbformat_minor": 4
}
